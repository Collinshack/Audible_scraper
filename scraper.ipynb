{
 "cells": [
  {
   "cell_type": "code",
   "execution_count": 2,
   "id": "67d39489",
   "metadata": {},
   "outputs": [],
   "source": [
    "from selenium import webdriver\n",
    "from selenium.webdriver.chrome.service import Service\n",
    "from selenium.webdriver.chrome.options import Options\n",
    "from selenium.webdriver.common.by import By\n",
    "from selenium.webdriver.support.ui import WebDriverWait\n",
    "from selenium.webdriver.support import expected_conditions as EC\n",
    "import pandas as pd"
   ]
  },
  {
   "cell_type": "code",
   "execution_count": 31,
   "id": "88ab941a",
   "metadata": {},
   "outputs": [
    {
     "name": "stderr",
     "output_type": "stream",
     "text": [
      "C:\\Users\\pc\\AppData\\Local\\Temp/ipykernel_11392/2373031870.py:2: DeprecationWarning: headless property is deprecated, instead use add_argument('--headless') or add_argument('--headless=new')\n",
      "  options.headless = False\n"
     ]
    }
   ],
   "source": [
    "options = Options()\n",
    "options.headless = False\n",
    "# options.add_argument('windows-size=1920x1080')\n",
    "\n",
    "\n",
    "website = 'https://www.audible.com/search'\n",
    "driver_path = '/Users/pc/Downloads/webdriver'\n",
    "service = Service(executable_path=driver_path)\n",
    "driver = webdriver.Chrome(service=service, options=options)\n",
    "driver.get(website)\n",
    "driver.maximize_window()\n",
    "\n",
    "\n",
    "\n",
    "\n",
    "\n",
    "pagination = driver.find_element(By.XPATH, '//ul[contains(@class, \"pagingElements\")]')\n",
    "pages = pagination.find_elements(By.TAG_NAME, 'li')\n",
    "last_page = int(pages[-2].text)\n",
    "first_page = 1\n",
    "\n",
    "\n",
    "book_title = []\n",
    "author = []\n",
    "# series = []\n",
    "length = []\n",
    "# release_date = []\n",
    "# language = []\n",
    "# ratings = []\n",
    "\n",
    "\n",
    "while first_page <= last_page:\n",
    "    container = WebDriverWait(driver, 5).until(EC.presence_of_element_located((By.CLASS_NAME, 'adbl-impression-container ')))\n",
    "    products = WebDriverWait(container, 5).until(EC.presence_of_all_elements_located((By.XPATH, './/li[contains(@class, \"productListItem\")]')))\n",
    "    \n",
    "    for product in products:\n",
    "        book_title.append(product.find_element(By.XPATH, './/h3[contains(@class, \"bc-heading\")]').text)\n",
    "\n",
    "        author.append(product.find_element(By.XPATH, './/li[contains(@class, \"authorLabel\")]').text)\n",
    "\n",
    "\n",
    "    #     series.append(product.find_element(By.XPATH, './/li[contains(@class, \"seriesLabel\")]').text)\n",
    "\n",
    "        length.append(product.find_element(By.XPATH, './/li[contains(@class, \"runtimeLabel\")]').text)\n",
    "\n",
    "    #     release_date.append(product.find_element(By.XPATH, './/li[contains(@class, \"releaseDateLabel\")]').text)\n",
    "\n",
    "    #     language.append(product.find_element(By.XPATH, './/li[contains(@class, \"languageLabel\")]').text)\n",
    "\n",
    "    #     ratings.append(product.find_element(By.XPATH, './/li[contains(@class, \"ratingsLabel\")]').text)\n",
    "    \n",
    "    first_page = first_page + 1\n",
    "    try:\n",
    "        next_button = driver.find_element(By.XPATH, '//span[contains(@class, \"nextButton\")] ')\n",
    "        next_button.click()\n",
    "    except:\n",
    "        pass\n",
    "        \n",
    "    \n",
    "df = pd.DataFrame({'Book_Title': book_title, 'Author': author, 'Length': length})\n",
    "\n",
    "df.to_csv('books_info.csv', index=False)\n",
    "\n",
    "    \n",
    "driver.quit()\n",
    "    \n",
    "    \n",
    "\n",
    "    "
   ]
  },
  {
   "cell_type": "code",
   "execution_count": 4,
   "id": "7939a83a",
   "metadata": {},
   "outputs": [],
   "source": [
    "books = pd.read_csv('books_info.csv')\n"
   ]
  },
  {
   "cell_type": "code",
   "execution_count": 5,
   "id": "ad28cab9",
   "metadata": {},
   "outputs": [
    {
     "data": {
      "text/html": [
       "<div>\n",
       "<style scoped>\n",
       "    .dataframe tbody tr th:only-of-type {\n",
       "        vertical-align: middle;\n",
       "    }\n",
       "\n",
       "    .dataframe tbody tr th {\n",
       "        vertical-align: top;\n",
       "    }\n",
       "\n",
       "    .dataframe thead th {\n",
       "        text-align: right;\n",
       "    }\n",
       "</style>\n",
       "<table border=\"1\" class=\"dataframe\">\n",
       "  <thead>\n",
       "    <tr style=\"text-align: right;\">\n",
       "      <th></th>\n",
       "      <th>Book_Title</th>\n",
       "      <th>Author</th>\n",
       "      <th>Length</th>\n",
       "    </tr>\n",
       "  </thead>\n",
       "  <tbody>\n",
       "    <tr>\n",
       "      <th>495</th>\n",
       "      <td>Dark Alliance Turbulent Waters</td>\n",
       "      <td>By: I. T. Lucas</td>\n",
       "      <td>Length: 8 hrs and 21 mins</td>\n",
       "    </tr>\n",
       "    <tr>\n",
       "      <th>496</th>\n",
       "      <td>Princess and the Player</td>\n",
       "      <td>By: Ilsa Madden-Mills</td>\n",
       "      <td>Length: 8 hrs and 57 mins</td>\n",
       "    </tr>\n",
       "    <tr>\n",
       "      <th>497</th>\n",
       "      <td>Inevitable Disclosure</td>\n",
       "      <td>By: Nicky James</td>\n",
       "      <td>Length: 11 hrs and 52 mins</td>\n",
       "    </tr>\n",
       "    <tr>\n",
       "      <th>498</th>\n",
       "      <td>Napoleon Hill's Secret</td>\n",
       "      <td>By: Don Green</td>\n",
       "      <td>Length: 6 hrs and 41 mins</td>\n",
       "    </tr>\n",
       "    <tr>\n",
       "      <th>499</th>\n",
       "      <td>The Art of Embodiment for Men</td>\n",
       "      <td>By: GS Youngblood</td>\n",
       "      <td>Length: 5 hrs and 50 mins</td>\n",
       "    </tr>\n",
       "  </tbody>\n",
       "</table>\n",
       "</div>"
      ],
      "text/plain": [
       "                         Book_Title                 Author  \\\n",
       "495  Dark Alliance Turbulent Waters        By: I. T. Lucas   \n",
       "496         Princess and the Player  By: Ilsa Madden-Mills   \n",
       "497           Inevitable Disclosure        By: Nicky James   \n",
       "498          Napoleon Hill's Secret          By: Don Green   \n",
       "499   The Art of Embodiment for Men      By: GS Youngblood   \n",
       "\n",
       "                         Length  \n",
       "495   Length: 8 hrs and 21 mins  \n",
       "496   Length: 8 hrs and 57 mins  \n",
       "497  Length: 11 hrs and 52 mins  \n",
       "498   Length: 6 hrs and 41 mins  \n",
       "499   Length: 5 hrs and 50 mins  "
      ]
     },
     "execution_count": 5,
     "metadata": {},
     "output_type": "execute_result"
    }
   ],
   "source": [
    "books.tail()"
   ]
  },
  {
   "cell_type": "code",
   "execution_count": null,
   "id": "d4a20e69",
   "metadata": {},
   "outputs": [],
   "source": []
  },
  {
   "cell_type": "code",
   "execution_count": null,
   "id": "d6a319ea",
   "metadata": {},
   "outputs": [],
   "source": []
  }
 ],
 "metadata": {
  "kernelspec": {
   "display_name": "Python 3 (ipykernel)",
   "language": "python",
   "name": "python3"
  },
  "language_info": {
   "codemirror_mode": {
    "name": "ipython",
    "version": 3
   },
   "file_extension": ".py",
   "mimetype": "text/x-python",
   "name": "python",
   "nbconvert_exporter": "python",
   "pygments_lexer": "ipython3",
   "version": "3.9.7"
  }
 },
 "nbformat": 4,
 "nbformat_minor": 5
}
